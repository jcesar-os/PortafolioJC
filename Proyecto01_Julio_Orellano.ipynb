{
  "nbformat": 4,
  "nbformat_minor": 0,
  "metadata": {
    "colab": {
      "provenance": [],
      "authorship_tag": "ABX9TyMI17HuTZzRbvqXzofL/L5j",
      "include_colab_link": true
    },
    "kernelspec": {
      "name": "python3",
      "display_name": "Python 3"
    },
    "language_info": {
      "name": "python"
    }
  },
  "cells": [
    {
      "cell_type": "markdown",
      "metadata": {
        "id": "view-in-github",
        "colab_type": "text"
      },
      "source": [
        "<a href=\"https://colab.research.google.com/github/jcesar-os/PortafolioJC/blob/main/Proyecto01_Julio_Orellano.ipynb\" target=\"_parent\"><img src=\"https://colab.research.google.com/assets/colab-badge.svg\" alt=\"Open In Colab\"/></a>"
      ]
    },
    {
      "cell_type": "markdown",
      "source": [
        "Ejercicio N°1\n",
        "\n",
        "Escribir un programa que pregunte al usuario o genere las ventas\n",
        "de los últimos 5 días, y muestre por pantalla una serie (Dataframe)\n",
        "con los datos de las ventas por producto (opcional): Nro de\n",
        "unidades y precio unitario, indexada por los días, antes y después\n",
        "de aplicarles un descuento del 5%.\n",
        "(Diversas opciones de solución: libre)\n",
        "\n"
      ],
      "metadata": {
        "id": "RcwqKtn5L1SQ"
      }
    },
    {
      "cell_type": "code",
      "source": [
        "import pandas as pd\n",
        "import numpy as np"
      ],
      "metadata": {
        "id": "ubYVvAbyPquX"
      },
      "execution_count": 1,
      "outputs": []
    },
    {
      "cell_type": "code",
      "source": [
        "dias = input(\"¿Cantidad de días a graficar?\\n\")\n",
        "lventas = []\n",
        "ldias = []\n",
        "ldesc = []\n",
        "for i in range(0,int(dias)):\n",
        "  venta = input(\"Venta del día \"+ str(i+1) +\": \")\n",
        "  lventas.append(venta)\n",
        "  ldesc.append(int(venta)*0.95)\n",
        "  ldias.append(\"D\"+str(i+1))\n"
      ],
      "metadata": {
        "id": "5OCLvDEWL0up"
      },
      "execution_count": null,
      "outputs": []
    },
    {
      "cell_type": "code",
      "source": [
        "df_ventas = pd.DataFrame({\"Ventas\":lventas,\"Descuento\":ldesc},index=ldias)\n",
        "df_ventas"
      ],
      "metadata": {
        "id": "iwY5xVK1PoOS"
      },
      "execution_count": null,
      "outputs": []
    },
    {
      "cell_type": "markdown",
      "source": [
        "Ejercicio No 2\n",
        "\n",
        "Escribir un programa que reciba un diccionario con los ingresos mensuales de los clientes de una empresa, y devuelva una serie con el ingreso mínimo, máximo y media. El resultado final debe ser una serie con los estadísticos."
      ],
      "metadata": {
        "id": "Jy__KAIDjcHg"
      }
    },
    {
      "cell_type": "code",
      "source": [
        "dicc_cliente = {\"C1\":1200,\"C2\":1500,\"C3\":845.26,\"C4\":3157}\n",
        "#Convertir el dicc a un array\n",
        "cliente = dicc_cliente.keys()\n",
        "ingresos = dicc_cliente.values()\n",
        "\n",
        "lcliente = list(cliente)\n",
        "lingreso = list(ingresos)\n",
        "\n",
        "array_cliente = np.array(lingreso)\n",
        "\n",
        "#DataFrame\n",
        "df_cliente = pd.DataFrame({\"Ingreso\":array_cliente}, index=cliente)\n",
        "df_cliente"
      ],
      "metadata": {
        "id": "ghf0VjmVjf0n"
      },
      "execution_count": null,
      "outputs": []
    },
    {
      "cell_type": "code",
      "source": [
        "#Serie estadistico\n",
        "metricas = [\"Media\",\"Varianza\",\"Desv. Estandar\",\"Mínimo\",\"Máximo\",\"Redondear\"]\n",
        "valores = [array_cliente.mean(),\n",
        "           np.var(array_cliente),\n",
        "           np.std(array_cliente),\n",
        "           np.min(array_cliente),\n",
        "           np.max(array_cliente),\n",
        "           np.round(np.std(array_cliente), 3)] \n",
        "df_serie = pd.DataFrame({\"Metricas\":valores},index=metricas)\n",
        "df_serie"
      ],
      "metadata": {
        "id": "PcCeFSChBnBJ"
      },
      "execution_count": null,
      "outputs": []
    },
    {
      "cell_type": "markdown",
      "source": [
        "Ejercicio No 3\n",
        "\n",
        "Escribir programa que genere y muestre por pantalla un DataFrame\n",
        "con los datos de la siguiente tabla:\n",
        "\n",
        "          Mes Ventas Gastos\n",
        "\n",
        "          Enero 30500 22000\n",
        "\n",
        "          Febrero 35600 23450\n",
        "\n",
        "          Marzo 28300 18100\n",
        "\n",
        "          Abril 33900 35700\n",
        "\n",
        "          Mayo 42500 32450\n",
        "\n",
        "A continuación, generar nuevas columna:\n",
        "1. Columna 1 = Gasto/Ventas*100.\n",
        "2. Columna 2 = Si Ventas>= 30000, imprimir “Meta Superada”,\n",
        "caso contrario imprimir “Meta no Superada”.\n",
        "3. Columna 3 = Si Gasto>Ventas, calcular el sobre gasto.\n",
        "4. Obtener el total de las ventas de los últimos 3 meses\n",
        "5. Obtener el total de gastos de febrero a abril"
      ],
      "metadata": {
        "id": "T8Dl_ykeEOO3"
      }
    },
    {
      "cell_type": "code",
      "source": [
        "lmes = [\"Enero\",\"Febrero\",\"Marzo\",\"Abril\",\"Mayo\"]\n",
        "lventas = [30500,35600,28300,33900,42500]\n",
        "lgastos = [22000,23450,18100,35700,32450]\n",
        "\n",
        "df_mod = pd.DataFrame({\"Ventas\":lventas,\"Gastos\":lgastos},index=lmes)\n",
        "df_mod"
      ],
      "metadata": {
        "id": "G_oQ_qRJDflA"
      },
      "execution_count": null,
      "outputs": []
    },
    {
      "cell_type": "code",
      "source": [
        "#Columna 1\n",
        "df_mod[\"Columna 1\"]=round(df_mod[\"Gastos\"]/df_mod[\"Ventas\"]*100,2)\n",
        "df_mod"
      ],
      "metadata": {
        "id": "Ef2JNv5THJ2V"
      },
      "execution_count": null,
      "outputs": []
    },
    {
      "cell_type": "code",
      "source": [
        "df_mod.loc[df_mod.index[0],\"Ventas\"]\n",
        "#df_mod.iloc[2][0]\n",
        "\n"
      ],
      "metadata": {
        "id": "LvQngKx0NnOg"
      },
      "execution_count": null,
      "outputs": []
    },
    {
      "cell_type": "code",
      "source": [
        "#Columna 2\n",
        "for i in range(0,len(df_mod)):\n",
        "  if df_mod.loc[df_mod.index[i],\"Ventas\"] > 30000:\n",
        "    df_mod.loc[df_mod.index[i],\"Columna 2\"] = \"Meta Superada\"\n",
        "  else:\n",
        "    df_mod.loc[df_mod.index[i],\"Columna 2\"] = \"Meta No Superada\"\n",
        "\n",
        "df_mod"
      ],
      "metadata": {
        "id": "khstxPccHoZ4"
      },
      "execution_count": null,
      "outputs": []
    },
    {
      "cell_type": "code",
      "source": [
        "#Columna 3\n",
        "for i in range(0,len(df_mod)):\n",
        "  if df_mod.loc[df_mod.index[i],\"Gastos\"] > df_mod.loc[df_mod.index[i],\"Ventas\"]:\n",
        "    df_mod.loc[df_mod.index[i],\"Columna 3\"] = df_mod.loc[df_mod.index[i],\"Gastos\"] - df_mod.loc[df_mod.index[i],\"Ventas\"]\n",
        "  else:\n",
        "    df_mod.loc[df_mod.index[i],\"Columna 3\"] = \"No hay sobrecargo\"\n",
        "\n",
        "df_mod"
      ],
      "metadata": {
        "id": "RimiXLKcdUmu"
      },
      "execution_count": null,
      "outputs": []
    },
    {
      "cell_type": "code",
      "source": [
        "#Obtener el total de las ventas de los últimos 3 meses\n",
        "\n",
        "sales_3m = df_mod.tail(3)\n",
        "print(sales_3m)\n",
        "\n",
        "total_sales = sales_3m[\"Ventas\"].sum()\n",
        "print(\"\\nTotal de ventas de los ultimos 3 meses --> S/\"+str(total_sales))\n"
      ],
      "metadata": {
        "id": "fwYH4eSnd0yd"
      },
      "execution_count": null,
      "outputs": []
    },
    {
      "cell_type": "code",
      "source": [
        "#Obtener el total de gastos de febrero a abril\n",
        "gastos_febabr = df_mod[1:4]\n",
        "print(gastos_febabr)\n",
        "\n",
        "total_gastos = gastos_febabr[\"Gastos\"].sum()\n",
        "print(\"\\nTotal de gastos de los ultimos 3 meses --> S/\"+str(total_gastos))"
      ],
      "metadata": {
        "id": "tsRHbYH9RNVN"
      },
      "execution_count": null,
      "outputs": []
    },
    {
      "cell_type": "markdown",
      "source": [
        "Ejercicio No 4\n",
        "\n",
        "Con el siguiente fichero Data - Riesgos.csv contiene información\n",
        "de riesgo de clientes de un banco. Escribir un programa con los\n",
        "siguientes requisitos:\n",
        "1. Generar un DataFrame con los datos del fichero.\n",
        "2. Mostrar por pantalla las dimensiones del DataFrame, el\n",
        "número de datos que contiene, los nombres de sus columnas\n",
        "y filas, los tipos de datos de las columnas, mostrar las 10\n",
        "primeras filas y las 10 últimas filas, verificar si tiene datos\n",
        "perdidos/nulos.\n",
        "3. Extraer las 100 primeras filas y almacenarlas en un\n",
        "contenedor."
      ],
      "metadata": {
        "id": "h0D4dQlDTbfp"
      }
    },
    {
      "cell_type": "code",
      "source": [
        "#Generación del DataFrame\n",
        "df_riesgo = pd.read_csv(\"Data - Riesgos.csv\")\n",
        "\n",
        "#Dimensión del DataFrame\n",
        "print(\"Dimensión del Dataframe: \",df_riesgo.size)\n",
        "print(\"\\n---------------------\\n\")\n",
        "\n",
        "#el número de datos que contiene, los nombres de sus columnas y filas, los tipos de datos de las columnas\n",
        "print(df_riesgo.info())\n",
        "print(\"\\n---------------------\\n\")\n",
        "\n",
        "#mostrar las 10 primeras filas y las 10 últimas filas\n",
        "print(df_riesgo.head(10))\n",
        "print(\"\\n---------------------\\n\")\n",
        "print(df_riesgo.tail(10))\n",
        "print(\"\\n---------------------\\n\")\n",
        "\n",
        "#verificar si tiene datos perdidos/nulos.\n",
        "dataNaN = pd.isna(df_riesgo)\n",
        "print(dataNaN)\n",
        "print(\"\\n---------------------\\n\")\n",
        "\n"
      ],
      "metadata": {
        "id": "AxCo0XzZTXwe"
      },
      "execution_count": null,
      "outputs": []
    },
    {
      "cell_type": "code",
      "source": [
        "#Extraer las 100 primeras filas y almacenarlas en un contenedor.\n",
        "\n",
        "df_100 = df_riesgo.head(100)\n",
        "df_100"
      ],
      "metadata": {
        "id": "U_ZJdkLoae6A"
      },
      "execution_count": null,
      "outputs": []
    }
  ]
}